{
 "cells": [
  {
   "cell_type": "markdown",
   "id": "2b3add9d-abf3-475b-a50d-bd36df089bbf",
   "metadata": {},
   "source": [
    "# Pip install and imports\n",
    "At the start of project \n",
    "```bash\n",
    "$ pip install numpy jupyterlab pandas scikit-learn matplotlib\n",
    "```\n",
    "\n",
    "`sklear` used for train_test_split data and for label encoding only \n",
    "\n",
    "`Matplotlib` used for ploting graphs\n",
    "\n",
    "`numpy` used for data manipulation \n",
    "\n",
    "`pandas` used for the dataframe "
   ]
  },
  {
   "cell_type": "code",
   "execution_count": 1,
   "id": "8da2d719-08fe-419d-ae22-f8e72b45abb6",
   "metadata": {},
   "outputs": [],
   "source": [
    "import numpy as np\n",
    "import pandas as pd\n",
    "import math\n",
    "from sklearn.preprocessing import LabelEncoder\n",
    "from sklearn.model_selection import train_test_split\n",
    "from matplotlib import pyplot as plt\n"
   ]
  },
  {
   "cell_type": "markdown",
   "id": "0d53dff0-ef26-49cc-b544-2d62068c7083",
   "metadata": {},
   "source": [
    "# Loading dataframe"
   ]
  },
  {
   "cell_type": "code",
   "execution_count": 2,
   "id": "b52b3dff-b9df-471c-9e18-103ff3e954c7",
   "metadata": {},
   "outputs": [
    {
     "data": {
      "text/html": [
       "<div>\n",
       "<style scoped>\n",
       "    .dataframe tbody tr th:only-of-type {\n",
       "        vertical-align: middle;\n",
       "    }\n",
       "\n",
       "    .dataframe tbody tr th {\n",
       "        vertical-align: top;\n",
       "    }\n",
       "\n",
       "    .dataframe thead th {\n",
       "        text-align: right;\n",
       "    }\n",
       "</style>\n",
       "<table border=\"1\" class=\"dataframe\">\n",
       "  <thead>\n",
       "    <tr style=\"text-align: right;\">\n",
       "      <th></th>\n",
       "      <th>Trip_Distance_km</th>\n",
       "      <th>Time_of_Day</th>\n",
       "      <th>Day_of_Week</th>\n",
       "      <th>Passenger_Count</th>\n",
       "      <th>Traffic_Conditions</th>\n",
       "      <th>Weather</th>\n",
       "      <th>Base_Fare</th>\n",
       "      <th>Per_Km_Rate</th>\n",
       "      <th>Per_Minute_Rate</th>\n",
       "      <th>Trip_Duration_Minutes</th>\n",
       "      <th>Trip_Price</th>\n",
       "    </tr>\n",
       "  </thead>\n",
       "  <tbody>\n",
       "    <tr>\n",
       "      <th>0</th>\n",
       "      <td>19.35</td>\n",
       "      <td>Morning</td>\n",
       "      <td>Weekday</td>\n",
       "      <td>3.0</td>\n",
       "      <td>Low</td>\n",
       "      <td>Clear</td>\n",
       "      <td>3.56</td>\n",
       "      <td>0.80</td>\n",
       "      <td>0.32</td>\n",
       "      <td>53.82</td>\n",
       "      <td>36.2624</td>\n",
       "    </tr>\n",
       "    <tr>\n",
       "      <th>1</th>\n",
       "      <td>47.59</td>\n",
       "      <td>Afternoon</td>\n",
       "      <td>Weekday</td>\n",
       "      <td>1.0</td>\n",
       "      <td>High</td>\n",
       "      <td>Clear</td>\n",
       "      <td>NaN</td>\n",
       "      <td>0.62</td>\n",
       "      <td>0.43</td>\n",
       "      <td>40.57</td>\n",
       "      <td>NaN</td>\n",
       "    </tr>\n",
       "    <tr>\n",
       "      <th>2</th>\n",
       "      <td>36.87</td>\n",
       "      <td>Evening</td>\n",
       "      <td>Weekend</td>\n",
       "      <td>1.0</td>\n",
       "      <td>High</td>\n",
       "      <td>Clear</td>\n",
       "      <td>2.70</td>\n",
       "      <td>1.21</td>\n",
       "      <td>0.15</td>\n",
       "      <td>37.27</td>\n",
       "      <td>52.9032</td>\n",
       "    </tr>\n",
       "    <tr>\n",
       "      <th>3</th>\n",
       "      <td>30.33</td>\n",
       "      <td>Evening</td>\n",
       "      <td>Weekday</td>\n",
       "      <td>4.0</td>\n",
       "      <td>Low</td>\n",
       "      <td>NaN</td>\n",
       "      <td>3.48</td>\n",
       "      <td>0.51</td>\n",
       "      <td>0.15</td>\n",
       "      <td>116.81</td>\n",
       "      <td>36.4698</td>\n",
       "    </tr>\n",
       "    <tr>\n",
       "      <th>4</th>\n",
       "      <td>NaN</td>\n",
       "      <td>Evening</td>\n",
       "      <td>Weekday</td>\n",
       "      <td>3.0</td>\n",
       "      <td>High</td>\n",
       "      <td>Clear</td>\n",
       "      <td>2.93</td>\n",
       "      <td>0.63</td>\n",
       "      <td>0.32</td>\n",
       "      <td>22.64</td>\n",
       "      <td>15.6180</td>\n",
       "    </tr>\n",
       "  </tbody>\n",
       "</table>\n",
       "</div>"
      ],
      "text/plain": [
       "   Trip_Distance_km Time_of_Day Day_of_Week  Passenger_Count  \\\n",
       "0             19.35     Morning     Weekday              3.0   \n",
       "1             47.59   Afternoon     Weekday              1.0   \n",
       "2             36.87     Evening     Weekend              1.0   \n",
       "3             30.33     Evening     Weekday              4.0   \n",
       "4               NaN     Evening     Weekday              3.0   \n",
       "\n",
       "  Traffic_Conditions Weather  Base_Fare  Per_Km_Rate  Per_Minute_Rate  \\\n",
       "0                Low   Clear       3.56         0.80             0.32   \n",
       "1               High   Clear        NaN         0.62             0.43   \n",
       "2               High   Clear       2.70         1.21             0.15   \n",
       "3                Low     NaN       3.48         0.51             0.15   \n",
       "4               High   Clear       2.93         0.63             0.32   \n",
       "\n",
       "   Trip_Duration_Minutes  Trip_Price  \n",
       "0                  53.82     36.2624  \n",
       "1                  40.57         NaN  \n",
       "2                  37.27     52.9032  \n",
       "3                 116.81     36.4698  \n",
       "4                  22.64     15.6180  "
      ]
     },
     "execution_count": 2,
     "metadata": {},
     "output_type": "execute_result"
    }
   ],
   "source": [
    "df_original = pd.read_csv('taxi_trip_pricing.csv')\n",
    "df = df_original.copy()\n",
    "df.head()"
   ]
  },
  {
   "cell_type": "markdown",
   "id": "824c817b-8ef6-493f-8a07-18212743628a",
   "metadata": {},
   "source": [
    "# Data cleaning \n",
    "## Replace NaN with mean\n",
    "In `TripDistance_km`, `Base_Fare`, `Per_Km_Rate`, `Per_Minute_Rate`, `Trip_Duration_Minutes` and `Trip_Price` features, find the mean values and replace the NaN with the mean value"
   ]
  },
  {
   "cell_type": "code",
   "execution_count": 3,
   "id": "36bda652-261c-4c1b-9c29-ba731926a057",
   "metadata": {},
   "outputs": [],
   "source": [
    "mean_Trip_Distance_km = df['Trip_Distance_km'].mean()\n",
    "df['Trip_Distance_km'] = df['Trip_Distance_km'].fillna(mean_Trip_Distance_km)\n",
    "\n",
    "mean_Base_Fare = df['Base_Fare'].mean()\n",
    "df['Base_Fare'] = df['Base_Fare'].fillna(mean_Base_Fare)\n",
    "\n",
    "mean_Per_Km_Rate = df['Per_Km_Rate'].mean()\n",
    "df['Per_Km_Rate'] = df['Per_Km_Rate'].fillna(mean_Per_Km_Rate)\n",
    "\n",
    "mean_Per_Minute_Rate = df['Per_Minute_Rate'].mean()\n",
    "df['Per_Minute_Rate'] = df['Per_Minute_Rate'].fillna(mean_Per_Minute_Rate)\n",
    "\n",
    "mean_Trip_Duration_Minutes = df['Trip_Duration_Minutes'].mean()\n",
    "df['Trip_Duration_Minutes'] = df['Trip_Duration_Minutes'].fillna(mean_Trip_Duration_Minutes)\n",
    "\n",
    "mean_Trip_Price = df['Trip_Price'].mean()\n",
    "df['Trip_Price'] = df['Trip_Price'].fillna(mean_Trip_Price)\n",
    "\n",
    "# print(f'Mean Trip_Distance_km: {mean_Trip_Distance_km}')\n",
    "# print(f'Mean Base_Fare: {mean_Base_Fare}')\n",
    "# print(f'Mean Per_Km_Rate: {mean_Per_Km_Rate}')\n",
    "# print(f'Mean Per_Minute_Rate: {mean_Per_Minute_Rate}')\n",
    "# print(f'Mean Trip_Duration_Minutes: {mean_Trip_Duration_Minutes}')\n",
    "# print(f'Mean Trip_Price: {mean_Trip_Price}')\n"
   ]
  },
  {
   "cell_type": "markdown",
   "id": "4c1c189b-b5a7-48a6-9f99-0fe92d65e196",
   "metadata": {},
   "source": [
    "## Replace NaN with unknown\n",
    "In the `Time_of_Day`, `Day_of_Week`, `Traffic_Conditions` and `Weather` replace with `Unknown` because dataset has too many NaN's to drop them"
   ]
  },
  {
   "cell_type": "code",
   "execution_count": 4,
   "id": "baa0b4f3-2174-4401-a4c0-3d37db6964b4",
   "metadata": {},
   "outputs": [],
   "source": [
    "df['Time_of_Day'] = df['Time_of_Day'].fillna('Unknown')\n",
    "df['Day_of_Week'] = df['Day_of_Week'].fillna('Unknown')\n",
    "df['Traffic_Conditions'] = df['Traffic_Conditions'].fillna('Unknown')\n",
    "df['Weather'] = df['Weather'].fillna('Unknown')"
   ]
  },
  {
   "cell_type": "markdown",
   "id": "36735b4f-7dd3-46d9-aec6-15ed46203d42",
   "metadata": {},
   "source": [
    "## Replace NaN with most common (mode imputation)\n",
    "In the `Passenger_Count` feature we use mode imputation to replace NaN with most frequencly occuring value "
   ]
  },
  {
   "cell_type": "code",
   "execution_count": 5,
   "id": "cdda992c-d20b-4d40-8371-d07dc041ff77",
   "metadata": {},
   "outputs": [],
   "source": [
    "mode_count = df['Passenger_Count'].mode()[0]\n",
    "df['Passenger_Count'] = df['Passenger_Count'].fillna(mode_count)\n",
    "# print(mode_count\n"
   ]
  },
  {
   "cell_type": "markdown",
   "id": "5271cc29-2485-491d-91ab-bb25f434cb18",
   "metadata": {},
   "source": [
    "## Replace Outliers\n",
    "\n",
    "We use the formula for outliers to replace them with mean and make a better dataset for the model\n",
    "\n",
    "Standard deviation formula:  \n",
    "$$\n",
    "\\sigma = \\sqrt{\\frac{\\sum (x_i - \\mu)^2}{N}}\n",
    "$$\n",
    "\n",
    "Z Value Formula:\n",
    "$$\n",
    "Z = \\frac{X - \\mu}{\\sigma}\n",
    "$$"
   ]
  },
  {
   "cell_type": "code",
   "execution_count": 6,
   "id": "85fbb18d-ed30-4560-8261-4c02160c2b11",
   "metadata": {},
   "outputs": [],
   "source": [
    "numrical_cols = [\n",
    "    'Trip_Distance_km',\n",
    "    'Base_Fare',\n",
    "    'Per_Km_Rate',\n",
    "    'Per_Minute_Rate',\n",
    "    'Trip_Duration_Minutes',\n",
    "    'Trip_Price',\n",
    "]\n",
    "\n",
    "for col in numrical_cols:\n",
    "    sigma = df[col].std()\n",
    "    mu = df[col].mean()\n",
    "\n",
    "    for i in range(len(df[col])):\n",
    "        Z = (df[col].iloc[i] - mu) / sigma\n",
    "\n",
    "        if Z > 3 or Z < -3:\n",
    "            df.loc[i, col] = mu"
   ]
  },
  {
   "cell_type": "markdown",
   "id": "b2fafa54-3d69-4ac4-89a3-19be6455d0fc",
   "metadata": {},
   "source": [
    "## Label Encoding\n",
    "The laber encoding will turn the features with string to features with numeric values, we use sklearn library to do label encoding. "
   ]
  },
  {
   "cell_type": "code",
   "execution_count": 7,
   "id": "d1ccad13-c4fc-4347-81af-88b5e503701e",
   "metadata": {},
   "outputs": [],
   "source": [
    "categorical_cols = [\n",
    "    'Time_of_Day',\n",
    "    'Day_of_Week',\n",
    "    'Traffic_Conditions',\n",
    "    'Weather'\n",
    "]\n",
    "\n",
    "le = LabelEncoder()\n",
    "for col in categorical_cols:\n",
    "    df[col] = le.fit_transform(df[col])"
   ]
  },
  {
   "cell_type": "markdown",
   "id": "7eaf8086-dcdf-482f-b176-d732976737cf",
   "metadata": {},
   "source": [
    "## Feature Engineering\n",
    "Making new better feasture for our model by combinging two other features "
   ]
  },
  {
   "cell_type": "code",
   "execution_count": 8,
   "id": "a3c1def4-d8d4-48c6-8cad-1c00b133fa2e",
   "metadata": {},
   "outputs": [],
   "source": [
    "df['duration_per_minute_rate'] = df['Trip_Duration_Minutes'] * df['Per_Minute_Rate']\n",
    "df['distance_per_km_rate'] = df['Trip_Distance_km'] * df['Per_Km_Rate']"
   ]
  },
  {
   "cell_type": "markdown",
   "id": "fcfb27e4-03e7-40d2-8d77-74a9f796935e",
   "metadata": {},
   "source": [
    "## Divide features and label\n",
    "`X` variable will hold all the features\n",
    "\n",
    "`y` variable will hold all the labels (target) we only have `Trip_Price` label \n",
    "\n",
    "Display the dataset after all the processing"
   ]
  },
  {
   "cell_type": "code",
   "execution_count": 9,
   "id": "3bdf25fd",
   "metadata": {},
   "outputs": [
    {
     "data": {
      "text/html": [
       "<div>\n",
       "<style scoped>\n",
       "    .dataframe tbody tr th:only-of-type {\n",
       "        vertical-align: middle;\n",
       "    }\n",
       "\n",
       "    .dataframe tbody tr th {\n",
       "        vertical-align: top;\n",
       "    }\n",
       "\n",
       "    .dataframe thead th {\n",
       "        text-align: right;\n",
       "    }\n",
       "</style>\n",
       "<table border=\"1\" class=\"dataframe\">\n",
       "  <thead>\n",
       "    <tr style=\"text-align: right;\">\n",
       "      <th></th>\n",
       "      <th>Trip_Distance_km</th>\n",
       "      <th>Time_of_Day</th>\n",
       "      <th>Day_of_Week</th>\n",
       "      <th>Passenger_Count</th>\n",
       "      <th>Traffic_Conditions</th>\n",
       "      <th>Weather</th>\n",
       "      <th>Base_Fare</th>\n",
       "      <th>Per_Km_Rate</th>\n",
       "      <th>Per_Minute_Rate</th>\n",
       "      <th>Trip_Duration_Minutes</th>\n",
       "      <th>Trip_Price</th>\n",
       "      <th>duration_per_minute_rate</th>\n",
       "      <th>distance_per_km_rate</th>\n",
       "    </tr>\n",
       "  </thead>\n",
       "  <tbody>\n",
       "    <tr>\n",
       "      <th>0</th>\n",
       "      <td>19.350000</td>\n",
       "      <td>2</td>\n",
       "      <td>1</td>\n",
       "      <td>3.0</td>\n",
       "      <td>1</td>\n",
       "      <td>0</td>\n",
       "      <td>3.560000</td>\n",
       "      <td>0.80</td>\n",
       "      <td>0.32</td>\n",
       "      <td>53.82</td>\n",
       "      <td>36.262400</td>\n",
       "      <td>17.2224</td>\n",
       "      <td>15.480000</td>\n",
       "    </tr>\n",
       "    <tr>\n",
       "      <th>1</th>\n",
       "      <td>47.590000</td>\n",
       "      <td>0</td>\n",
       "      <td>1</td>\n",
       "      <td>1.0</td>\n",
       "      <td>0</td>\n",
       "      <td>0</td>\n",
       "      <td>3.502989</td>\n",
       "      <td>0.62</td>\n",
       "      <td>0.43</td>\n",
       "      <td>40.57</td>\n",
       "      <td>56.874773</td>\n",
       "      <td>17.4451</td>\n",
       "      <td>29.505800</td>\n",
       "    </tr>\n",
       "    <tr>\n",
       "      <th>2</th>\n",
       "      <td>36.870000</td>\n",
       "      <td>1</td>\n",
       "      <td>2</td>\n",
       "      <td>1.0</td>\n",
       "      <td>0</td>\n",
       "      <td>0</td>\n",
       "      <td>2.700000</td>\n",
       "      <td>1.21</td>\n",
       "      <td>0.15</td>\n",
       "      <td>37.27</td>\n",
       "      <td>52.903200</td>\n",
       "      <td>5.5905</td>\n",
       "      <td>44.612700</td>\n",
       "    </tr>\n",
       "    <tr>\n",
       "      <th>3</th>\n",
       "      <td>30.330000</td>\n",
       "      <td>1</td>\n",
       "      <td>1</td>\n",
       "      <td>4.0</td>\n",
       "      <td>1</td>\n",
       "      <td>3</td>\n",
       "      <td>3.480000</td>\n",
       "      <td>0.51</td>\n",
       "      <td>0.15</td>\n",
       "      <td>116.81</td>\n",
       "      <td>36.469800</td>\n",
       "      <td>17.5215</td>\n",
       "      <td>15.468300</td>\n",
       "    </tr>\n",
       "    <tr>\n",
       "      <th>4</th>\n",
       "      <td>27.070547</td>\n",
       "      <td>1</td>\n",
       "      <td>1</td>\n",
       "      <td>3.0</td>\n",
       "      <td>0</td>\n",
       "      <td>0</td>\n",
       "      <td>2.930000</td>\n",
       "      <td>0.63</td>\n",
       "      <td>0.32</td>\n",
       "      <td>22.64</td>\n",
       "      <td>15.618000</td>\n",
       "      <td>7.2448</td>\n",
       "      <td>17.054445</td>\n",
       "    </tr>\n",
       "  </tbody>\n",
       "</table>\n",
       "</div>"
      ],
      "text/plain": [
       "   Trip_Distance_km  Time_of_Day  Day_of_Week  Passenger_Count  \\\n",
       "0         19.350000            2            1              3.0   \n",
       "1         47.590000            0            1              1.0   \n",
       "2         36.870000            1            2              1.0   \n",
       "3         30.330000            1            1              4.0   \n",
       "4         27.070547            1            1              3.0   \n",
       "\n",
       "   Traffic_Conditions  Weather  Base_Fare  Per_Km_Rate  Per_Minute_Rate  \\\n",
       "0                   1        0   3.560000         0.80             0.32   \n",
       "1                   0        0   3.502989         0.62             0.43   \n",
       "2                   0        0   2.700000         1.21             0.15   \n",
       "3                   1        3   3.480000         0.51             0.15   \n",
       "4                   0        0   2.930000         0.63             0.32   \n",
       "\n",
       "   Trip_Duration_Minutes  Trip_Price  duration_per_minute_rate  \\\n",
       "0                  53.82   36.262400                   17.2224   \n",
       "1                  40.57   56.874773                   17.4451   \n",
       "2                  37.27   52.903200                    5.5905   \n",
       "3                 116.81   36.469800                   17.5215   \n",
       "4                  22.64   15.618000                    7.2448   \n",
       "\n",
       "   distance_per_km_rate  \n",
       "0             15.480000  \n",
       "1             29.505800  \n",
       "2             44.612700  \n",
       "3             15.468300  \n",
       "4             17.054445  "
      ]
     },
     "execution_count": 9,
     "metadata": {},
     "output_type": "execute_result"
    }
   ],
   "source": [
    "X = df.drop(columns=['Trip_Price'])\n",
    "y = df['Trip_Price']\n",
    "\n",
    "df.head()"
   ]
  },
  {
   "cell_type": "markdown",
   "id": "d0ee6537",
   "metadata": {},
   "source": [
    "# Creating Model\n",
    "## Correlation\n",
    "Before creating model we check correlation between features and label, this way we can easily choose features the best without running each feature through the model and wasting our time. \n",
    "\n",
    "Inputing all the features and target in the function it will show us the best correlating values \n",
    "\n",
    "The results that we use are only above 0.5, the values below 0 are really bad \n",
    "\n",
    "we used the formula: \n",
    "$$r = \\frac{\\sum (X - \\bar{X})(Y - \\bar{Y})}{\\sqrt{\\sum (X - \\bar{X})^2} \\sqrt{\\sum (Y - \\bar{Y})^2}}$$"
   ]
  },
  {
   "cell_type": "code",
   "execution_count": 10,
   "id": "625315d5",
   "metadata": {},
   "outputs": [
    {
     "name": "stdout",
     "output_type": "stream",
     "text": [
      "Correlation between each feature and target: \n",
      "\n",
      "Trip_Distance_km: 0.65821\n",
      "Time_of_Day: -0.01852\n",
      "Day_of_Week: -0.01889\n",
      "Passenger_Count: 0.04278\n",
      "Traffic_Conditions: -0.02088\n",
      "Weather: 0.02633\n",
      "Base_Fare: 0.05281\n",
      "Per_Km_Rate: 0.40664\n",
      "Per_Minute_Rate: 0.25418\n",
      "Trip_Duration_Minutes: 0.34192\n",
      "duration_per_minute_rate: 0.44728\n",
      "distance_per_km_rate: 0.80758\n",
      "\n",
      "final feature:\n",
      "Trip_Distance_km\n",
      "Passenger_Count\n",
      "Weather\n",
      "Base_Fare\n",
      "Per_Km_Rate\n",
      "Per_Minute_Rate\n",
      "Trip_Duration_Minutes\n",
      "duration_per_minute_rate\n",
      "distance_per_km_rate\n"
     ]
    }
   ],
   "source": [
    "# X is all features\n",
    "# Y is only target label\n",
    "# Find correlation between X and y\n",
    "def correlation(X: pd.DataFrame, y):\n",
    "    correlation_results = []\n",
    "    y_mean = y.mean()\n",
    "    for feature in X:\n",
    "        x_mean = X[f'{feature}'].mean()\n",
    "        i = 0\n",
    "        top_part = 0\n",
    "        sqrt_left = 0\n",
    "        sqrt_right = 0\n",
    "        for x in X[f\"{feature}\"]:\n",
    "            top_part += (x-x_mean)*(y[i]-y_mean)\n",
    "            sqrt_left +=  math.pow((x-x_mean), 2) \n",
    "            sqrt_right +=  math.pow((y[i]-y_mean) , 2) \n",
    "            i +=1\n",
    "        \n",
    "        result = top_part / (math.sqrt(sqrt_left) * math.sqrt(sqrt_right))\n",
    "\n",
    "        correlation_results.append(result)\n",
    "    return correlation_results\n",
    "\n",
    "\n",
    "\n",
    "correlation_results = correlation(X, df[\"Trip_Price\"])\n",
    "i = 0\n",
    "print(\"Correlation between each feature and target: \\n\")\n",
    "for feature in X: \n",
    "    print(f'{feature}: {correlation_results[i]:.5f}')\n",
    "    if correlation_results[i] <= 0:\n",
    "        X = X.drop(columns=[f'{feature}'])\n",
    "    i += 1\n",
    "\n",
    "print(\"\\nfinal feature:\")\n",
    "#X = X.drop(columns=['Trip_Distance_km'])\n",
    "for feature in X:\n",
    "    print(f'{feature}')"
   ]
  },
  {
   "cell_type": "markdown",
   "id": "15fb3cbd",
   "metadata": {},
   "source": [
    "## Building Model, Ordinal Least Square Linear Regression\n",
    "Using `train_test_split` function from `sklearn` to split our data into 80% training size and 20% test size\n",
    "\n",
    "We decided on OLS formula to find the weights for our model\n",
    "\n",
    "Linear Regression Predict Formula: \n",
    "$$y = w_1 x_1 + w_2 x_2 + \\dots + w_n x_n + b$$\n",
    "\n",
    "OLS Formula:\n",
    "$$w = (X^T X)^{-1} X^T y$$"
   ]
  },
  {
   "cell_type": "code",
   "execution_count": 11,
   "id": "6be2d7dd",
   "metadata": {},
   "outputs": [],
   "source": [
    "X_train, X_test, y_train, y_test = train_test_split(X, y, test_size=0.2, random_state=42)\n",
    "\n",
    "\n",
    "\n",
    "class LinearRegression:\n",
    "    def __init__(self):\n",
    "        pass\n",
    "\n",
    "\n",
    "\n",
    "\n",
    "    @staticmethod\n",
    "    def fit(X_Train: pd.DataFrame, Y_Train: pd.DataFrame):\n",
    "\n",
    "        y = Y_Train.values.reshape(-1, 1)\n",
    "        ones = np.ones((X_Train.shape[0], 1))\n",
    "        X = np.hstack((ones, X_Train.values))\n",
    "        A = X.T @ X \n",
    "        B = X.T @ y\n",
    "        w = np.linalg.solve(A, B)\n",
    "        bias = w[0][0]\n",
    "        weights = w[1:]\n",
    "        weightsList = []\n",
    "        for weight in weights:\n",
    "            weightsList.append(float(weight[0]))\n",
    "        \n",
    "        for i in range(len(weightsList)):\n",
    "            print(f'w{i+1}  {weightsList[i]}')\n",
    "        \n",
    "        \n",
    "        print(f'bias : {bias}')\n",
    "        \n",
    "            \n",
    "        return bias, weights\n",
    "    \n",
    "\n",
    "\n",
    "    def predict(self, X_test, bias, weights):\n",
    "        \n",
    "        X = X_test.values\n",
    "        y_hat = (X @ weights) + bias\n",
    "        return y_hat\n",
    "\n",
    "\n",
    "\n"
   ]
  },
  {
   "cell_type": "markdown",
   "id": "eddd0201",
   "metadata": {},
   "source": [
    "Input X and y into our model"
   ]
  },
  {
   "cell_type": "code",
   "execution_count": 12,
   "id": "81a53f0f",
   "metadata": {},
   "outputs": [
    {
     "name": "stdout",
     "output_type": "stream",
     "text": [
      "w1  0.06384610065230963\n",
      "w2  0.29183676792018615\n",
      "w3  0.4561448261518824\n",
      "w4  0.8945351064431827\n",
      "w5  1.346416665097001\n",
      "w6  -15.073607749391488\n",
      "w7  -0.04944504369331786\n",
      "w8  1.1149520900760965\n",
      "w9  0.8764089886613925\n",
      "bias : 5.3381492083808855\n"
     ]
    }
   ],
   "source": [
    "mylr = LinearRegression()\n",
    "bias, weights = mylr.fit(X_train, y_train)\n",
    "my_y_pred = mylr.predict(X_test, bias, weights)\n"
   ]
  },
  {
   "cell_type": "markdown",
   "id": "1e2995f7",
   "metadata": {},
   "source": [
    "## Mean Square Error and Root MSE \n",
    "MSE and RMSE are used to check if our error had any errors\n",
    "\n",
    "MSE formula: \n",
    "$$MSE = \\frac{\\sum_{i=1}^{n} (y_i - \\hat{y}_i)^2}{n} $$"
   ]
  },
  {
   "cell_type": "code",
   "execution_count": 13,
   "id": "8a267515",
   "metadata": {},
   "outputs": [
    {
     "name": "stdout",
     "output_type": "stream",
     "text": [
      "MSE: 40.82283408617135\n",
      "RMSE: 6.389274926481983\n"
     ]
    }
   ],
   "source": [
    "\n",
    "y_test = np.float64(y_test)\n",
    "sum = 0\n",
    "for i in range(len(y_test)):\n",
    "    sum += math.pow(y_test[i]-my_y_pred[i][0], 2)\n",
    "\n",
    "mse = sum / len(y_test)\n",
    "sqrt_mse = math.sqrt(mse)\n",
    "print(f\"MSE: {mse}\")\n",
    "print(f\"RMSE: {sqrt_mse}\")\n",
    "\n",
    "\n",
    "\n",
    "\n"
   ]
  },
  {
   "cell_type": "markdown",
   "id": "dc1445ca",
   "metadata": {},
   "source": [
    "## $R^2$ \n",
    "$R^2$ is used to check how correct our model is\n",
    "\n",
    "$R^2$ formula: \n",
    "$$R^2 = 1-\\frac{\\sum (y_i - \\hat{y}_i)^2}{\\sum (y_i - \\bar{y})^2}$$"
   ]
  },
  {
   "cell_type": "code",
   "execution_count": 14,
   "id": "66db67dc",
   "metadata": {},
   "outputs": [
    {
     "name": "stdout",
     "output_type": "stream",
     "text": [
      "R square value: 0.931952167431312\n"
     ]
    }
   ],
   "source": [
    "sse = 0\n",
    "sst = 0\n",
    "for i in range(len(y_test)):\n",
    "    sse += math.pow(y_test[i]-my_y_pred[i][0], 2)\n",
    "    sst += math.pow(y_test[i]- mean_Trip_Price, 2)\n",
    "\n",
    "R_sqare = 1 - (sse/sst)\n",
    "print(f\"R square value: {R_sqare}\")\n"
   ]
  },
  {
   "cell_type": "markdown",
   "id": "e7289489-7d2a-4286-b1b2-894f384f8d69",
   "metadata": {},
   "source": [
    "## Plot the graph \n",
    "Plot the final graph that our model predicted"
   ]
  },
  {
   "cell_type": "code",
   "execution_count": 15,
   "id": "89208838",
   "metadata": {},
   "outputs": [
    {
     "data": {
      "image/png": "[encoded data removed]",
      "text/plain": [
       "<Figure size 1000x600 with 1 Axes>"
      ]
     },
     "metadata": {},
     "output_type": "display_data"
    }
   ],
   "source": [
    "plt.figure(figsize=(10, 6))\n",
    "plt.scatter(y_test, my_y_pred, alpha=0.5, label='Linear Regression')\n",
    "plt.plot([y_test.min(), y_test.max()], [y_test.min(), y_test.max()], color='red', lw=2, label='Perfect Prediction (y=x)')\n",
    "plt.xlabel('Actual Price')\n",
    "plt.ylabel('Predicted Price')\n",
    "plt.title('Actual vs Predicted Price (Linear Regression)')\n",
    "plt.legend()\n",
    "plt.show()"
   ]
  },
  {
   "cell_type": "code",
   "execution_count": 16,
   "id": "06488d24-8ce0-4cec-b12c-63dee316e754",
   "metadata": {},
   "outputs": [
    {
     "data": {
      "image/png": "[encoded data removed]",
      "text/plain": [
       "<Figure size 1000x600 with 1 Axes>"
      ]
     },
     "metadata": {},
     "output_type": "display_data"
    }
   ],
   "source": [
    "y_pred = my_y_pred.flatten()\n",
    "residuals = y_test - y_pred\n",
    "\n",
    "plt.figure(figsize=(10, 6))\n",
    "plt.hist(residuals, bins=30, alpha=0.7, color='blue', edgecolor='black')\n",
    "plt.xlabel('Residuals')\n",
    "plt.ylabel('Frequency')\n",
    "plt.title('Distribution of Residuals')\n",
    "plt.show()"
   ]
  },
  {
   "cell_type": "code",
   "execution_count": 17,
   "id": "ecc6653c-55bd-4e0e-ab28-e7d328b84ef1",
   "metadata": {},
   "outputs": [
    {
     "data": {
      "image/png": "[encoded data removed]",
      "text/plain": [
       "<Figure size 1000x600 with 1 Axes>"
      ]
     },
     "metadata": {},
     "output_type": "display_data"
    }
   ],
   "source": [
    "plt.figure(figsize=(10, 6))\n",
    "plt.scatter(y_pred, residuals, alpha=0.5, color='blue', edgecolor='black')\n",
    "plt.axhline(0, color='red', linestyle='--', linewidth=2)\n",
    "plt.xlabel('Fitted Values (Predicted Prices)')\n",
    "plt.ylabel('Residuals')\n",
    "plt.title('Residuals vs. Fitted Values')\n",
    "plt.show()"
   ]
  },
  {
   "cell_type": "code",
   "execution_count": 22,
   "id": "8356599d-6fda-40e5-9572-056695fbcaa3",
   "metadata": {},
   "outputs": [
    {
     "ename": "AttributeError",
     "evalue": "'LinearRegression' object has no attribute 'coef_'",
     "output_type": "error",
     "traceback": [
      "\u001b[31m---------------------------------------------------------------------------\u001b[39m",
      "\u001b[31mAttributeError\u001b[39m                            Traceback (most recent call last)",
      "\u001b[36mCell\u001b[39m\u001b[36m \u001b[39m\u001b[32mIn[22]\u001b[39m\u001b[32m, line 2\u001b[39m\n\u001b[32m      1\u001b[39m \u001b[38;5;66;03m# Extract coefficients as feature importance\u001b[39;00m\n\u001b[32m----> \u001b[39m\u001b[32m2\u001b[39m importances = \u001b[38;5;28mabs\u001b[39m(\u001b[43mmylr\u001b[49m\u001b[43m.\u001b[49m\u001b[43mcoef_\u001b[49m)\n\u001b[32m      3\u001b[39m feature_names = X_train.columns\n\u001b[32m      5\u001b[39m \u001b[38;5;66;03m# Create a DataFrame for better visualization\u001b[39;00m\n",
      "\u001b[31mAttributeError\u001b[39m: 'LinearRegression' object has no attribute 'coef_'"
     ]
    }
   ],
   "source": [
    "# Extract coefficients as feature importance\n",
    "importances = abs(mylr.coef_)\n",
    "feature_names = X_train.columns\n",
    "\n",
    "# Create a DataFrame for better visualization\n",
    "feature_importance_df = pd.DataFrame({\n",
    "    'feature': feature_names,\n",
    "    'importance': importances\n",
    "}).sort_values(by='importance', ascending=False)\n",
    "\n",
    "print(feature_importance_df)"
   ]
  },
  {
   "cell_type": "code",
   "execution_count": 19,
   "id": "bc34b79f-d542-4580-be4a-a20c4c96331f",
   "metadata": {},
   "outputs": [
    {
     "ename": "NameError",
     "evalue": "name 'feature_importance_df' is not defined",
     "output_type": "error",
     "traceback": [
      "\u001b[31m---------------------------------------------------------------------------\u001b[39m",
      "\u001b[31mNameError\u001b[39m                                 Traceback (most recent call last)",
      "\u001b[36mCell\u001b[39m\u001b[36m \u001b[39m\u001b[32mIn[19]\u001b[39m\u001b[32m, line 2\u001b[39m\n\u001b[32m      1\u001b[39m plt.figure(figsize=(\u001b[32m12\u001b[39m, \u001b[32m6\u001b[39m))\n\u001b[32m----> \u001b[39m\u001b[32m2\u001b[39m plt.barh(\u001b[43mfeature_importance_df\u001b[49m[\u001b[33m'\u001b[39m\u001b[33mfeature\u001b[39m\u001b[33m'\u001b[39m], feature_importance_df[\u001b[33m'\u001b[39m\u001b[33mimportance\u001b[39m\u001b[33m'\u001b[39m], color=\u001b[33m'\u001b[39m\u001b[33mskyblue\u001b[39m\u001b[33m'\u001b[39m, edgecolor=\u001b[33m'\u001b[39m\u001b[33mblack\u001b[39m\u001b[33m'\u001b[39m)\n\u001b[32m      3\u001b[39m plt.xlabel(\u001b[33m'\u001b[39m\u001b[33mImportance\u001b[39m\u001b[33m'\u001b[39m)\n\u001b[32m      4\u001b[39m plt.ylabel(\u001b[33m'\u001b[39m\u001b[33mFeature\u001b[39m\u001b[33m'\u001b[39m)\n",
      "\u001b[31mNameError\u001b[39m: name 'feature_importance_df' is not defined"
     ]
    },
    {
     "data": {
      "text/plain": [
       "<Figure size 1200x600 with 0 Axes>"
      ]
     },
     "metadata": {},
     "output_type": "display_data"
    }
   ],
   "source": [
    "plt.figure(figsize=(12, 6))\n",
    "plt.barh(feature_importance_df['feature'], feature_importance_df['importance'], color='skyblue', edgecolor='black')\n",
    "plt.xlabel('Importance')\n",
    "plt.ylabel('Feature')\n",
    "plt.title('Feature Importance')\n",
    "plt.gca().invert_yaxis()\n",
    "plt.show()"
   ]
  },
  {
   "cell_type": "code",
   "execution_count": null,
   "id": "760392bb-9dd4-4a36-8e66-876a8a8559c0",
   "metadata": {},
   "outputs": [],
   "source": []
  }
 ],
 "metadata": {
  "kernelspec": {
   "display_name": "Python 3 (ipykernel)",
   "language": "python",
   "name": "python3"
  },
  "language_info": {
   "codemirror_mode": {
    "name": "ipython",
    "version": 3
   },
   "file_extension": ".py",
   "mimetype": "text/x-python",
   "name": "python",
   "nbconvert_exporter": "python",
   "pygments_lexer": "ipython3",
   "version": "3.14.0"
  }
 },
 "nbformat": 4,
 "nbformat_minor": 5
}
